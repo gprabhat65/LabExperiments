{
 "cells": [
  {
   "cell_type": "code",
   "execution_count": 44,
   "id": "8a17f2a8",
   "metadata": {},
   "outputs": [
    {
     "name": "stdout",
     "output_type": "stream",
     "text": [
      "Enter an integer: 3\n",
      "The factorial of 3 is 6 and it has 3 digits.\n"
     ]
    }
   ],
   "source": [
    "#Programs on selection and Iteration operations\n",
    "'''Get an integer input from a user. If the number is odd, then find the \n",
    "factorial of a number and find the number of digits in the factorial of the\n",
    "number. If the number is even, then check the given number is palindrome \n",
    "or not'''\n",
    "def main():\n",
    "    n = int(input(\"Enter an integer: \"))\n",
    "    factorial_of_n = 1\n",
    "    number_of_digits_in_factorial = 0\n",
    "    if n % 2 == 1:\n",
    "        for i in range(1, n + 1):\n",
    "            factorial_of_n *= i\n",
    "            number_of_digits_in_factorial += 1\n",
    "        print(\"The factorial of {} is {} and it has {} digits.\".format(n, factorial_of_n, number_of_digits_in_factorial))\n",
    "    else:\n",
    "        reversed_number = 0\n",
    "        temp = n\n",
    "        while temp > 0:\n",
    "            reversed_number *= 10\n",
    "            reversed_number += temp % 10\n",
    "            temp //= 10\n",
    "        is_palindrome_number = n == reversed_number\n",
    "        print(\"The number {} is {} a palindrome.\".format(n, \"not\" if not is_palindrome_number else \"\"))\n",
    "\n",
    "if __name__ == \"__main__\":\n",
    "    main()\n"
   ]
  },
  {
   "cell_type": "code",
   "execution_count": 45,
   "id": "19416491",
   "metadata": {},
   "outputs": [
    {
     "name": "stdout",
     "output_type": "stream",
     "text": [
      "NO\n"
     ]
    }
   ],
   "source": [
    "#Strings and its operations\n",
    "'''Given two strings, PRINT (YES or NO) whether the second string can be \n",
    "obtained from the first by deletion of none, one or more characters.'''\n",
    "\n",
    "def main():\n",
    "    str_1 = \"hello\"\n",
    "    str_2 = \"ello\"\n",
    "    str_2_index = 0\n",
    "    for char in str_1:\n",
    "        if char == str_2[str_2_index]:\n",
    "            str_2_index += 1\n",
    "        else:\n",
    "            if str_2_index == 0:\n",
    "                print(\"NO\")\n",
    "                break\n",
    "            else:\n",
    "                str_2_index = 0\n",
    "    else:\n",
    "        print(\"YES\")\n",
    "\n",
    "if __name__ == \"__main__\":\n",
    "    main()"
   ]
  },
  {
   "cell_type": "code",
   "execution_count": 46,
   "id": "d6481ea7",
   "metadata": {},
   "outputs": [
    {
     "name": "stdout",
     "output_type": "stream",
     "text": [
      "1\n",
      "2\n",
      "5\n"
     ]
    }
   ],
   "source": [
    "# List and its operations\n",
    "'''Programs for positive and negative indexing'''\n",
    "\n",
    "list_of_numbers = [1, 2, 3, 4, 5]\n",
    "\n",
    "first_element = list_of_numbers[0]\n",
    "second_element = list_of_numbers[1]\n",
    "last_element = list_of_numbers[-1]\n",
    "\n",
    "print(first_element)\n",
    "print(second_element)\n",
    "print(last_element)\n"
   ]
  },
  {
   "cell_type": "code",
   "execution_count": 1,
   "id": "deea44a5",
   "metadata": {},
   "outputs": [
    {
     "name": "stdout",
     "output_type": "stream",
     "text": [
      "True\n",
      "False\n"
     ]
    }
   ],
   "source": [
    "'''Program to check if the given list is in Ascending order or not.'''\n",
    "\n",
    "def is_ascending(list1):\n",
    " \n",
    "  for i in range(len(list1) - 1):\n",
    "    if list1[i] > list1[i + 1]:\n",
    "      return False\n",
    "  return True\n",
    "\n",
    "list1 = [1, 2, 3, 4, 5]\n",
    "print(is_ascending(list1))  # True\n",
    "\n",
    "list2 = [5, 4, 3, 2, 1]\n",
    "print(is_ascending(list2))  # False\n"
   ]
  },
  {
   "cell_type": "code",
   "execution_count": 48,
   "id": "be15083c",
   "metadata": {},
   "outputs": [
    {
     "name": "stdout",
     "output_type": "stream",
     "text": [
      "12345\n"
     ]
    }
   ],
   "source": [
    "#Tuples and its operations\n",
    "'''Python program to convert a tuple to a string'''\n",
    "\n",
    "tuple1 = (1, 2, 3, 4, 5)\n",
    "string1 = \"\"\n",
    "for element in tuple1:\n",
    "  string1 += str(element)\n",
    "print(string1)\n"
   ]
  },
  {
   "cell_type": "code",
   "execution_count": 49,
   "id": "f06721b6",
   "metadata": {},
   "outputs": [
    {
     "name": "stdout",
     "output_type": "stream",
     "text": [
      "(5, 4, 3, 2, 1)\n"
     ]
    }
   ],
   "source": [
    "''' Python program to reverse a tuple'''\n",
    "\n",
    "tuple1 = (1, 2, 3, 4, 5)\n",
    "reversed_tuple = tuple(list(tuple1)[::-1])\n",
    "print(reversed_tuple)\n"
   ]
  },
  {
   "cell_type": "code",
   "execution_count": 50,
   "id": "b4c41e15",
   "metadata": {},
   "outputs": [
    {
     "name": "stdout",
     "output_type": "stream",
     "text": [
      "True\n",
      "True\n"
     ]
    }
   ],
   "source": [
    "#Sets and its operations\n",
    "'''Python program to check if a set is a subset of another set'''\n",
    "\n",
    "set1 = {1, 2, 3, 4, 5}\n",
    "set2 = {1, 2, 3, 4, 5, 6, 7, 8, 9}\n",
    "\n",
    "is_subset = True\n",
    "for element in set1:\n",
    "  if element not in set2:\n",
    "    is_subset = False\n",
    "    break\n",
    "\n",
    "print(is_subset)\n",
    "\n",
    "set3 = {1, 2, 3}\n",
    "is_subset = True\n",
    "for element in set3:\n",
    "  if element not in set2:\n",
    "    is_subset = False\n",
    "    break\n",
    "\n",
    "print(is_subset)\n"
   ]
  },
  {
   "cell_type": "code",
   "execution_count": 51,
   "id": "fa99db54",
   "metadata": {},
   "outputs": [
    {
     "name": "stdout",
     "output_type": "stream",
     "text": [
      "key: key1, value: value1\n",
      "key: key2, value: value2\n",
      "key: key3, value: value3\n"
     ]
    }
   ],
   "source": [
    "# Dictionaries and its operations Python program to iterate over dictionaries using for loops\n",
    "\n",
    "dict1 = {'key1': 'value1', 'key2': 'value2', 'key3': 'value3'}\n",
    "\n",
    "for key, value in dict1.items():\n",
    "  print(f\"key: {key}, value: {value}\")\n"
   ]
  },
  {
   "cell_type": "code",
   "execution_count": 52,
   "id": "49ee14a9",
   "metadata": {},
   "outputs": [
    {
     "name": "stdout",
     "output_type": "stream",
     "text": [
      "[1 2 3 4 5]\n"
     ]
    }
   ],
   "source": [
    "#Computations using NumPy functions\n",
    "''' NumPy program to convert a list of numeric value into \n",
    "a one-dimensional NumPy array'''\n",
    "\n",
    "import numpy as np\n",
    "list1 = [1, 2, 3, 4, 5]\n",
    "\n",
    "array1 = np.array(list1)\n",
    "\n",
    "print(array1)\n"
   ]
  },
  {
   "cell_type": "code",
   "execution_count": 53,
   "id": "3db0796d",
   "metadata": {},
   "outputs": [
    {
     "name": "stdout",
     "output_type": "stream",
     "text": [
      "[1 2 3 4 5]\n",
      "[1 2 3 4 5]\n",
      "   list  tuple\n",
      "0     1      1\n",
      "1     2      2\n",
      "2     3      3\n",
      "3     4      4\n",
      "4     5      5\n",
      "   list  tuple\n",
      "0    11     11\n",
      "1    12     12\n",
      "2    13     13\n",
      "3    14     14\n",
      "4    15     15\n"
     ]
    }
   ],
   "source": [
    "''' NumPy program to convert a list and tuple into arrays. \n",
    "Data manipulations using Pandas'''\n",
    "\n",
    "import numpy as np\n",
    "import pandas as pd\n",
    "\n",
    "list1 = [1, 2, 3, 4, 5]\n",
    "tuple1 = (1, 2, 3, 4, 5)\n",
    "\n",
    "array1 = np.array(list1)\n",
    "array2 = np.array(tuple1)\n",
    "\n",
    "print(array1)  # array([1, 2, 3, 4, 5])\n",
    "print(array2)  # array([1, 2, 3, 4, 5])\n",
    "\n",
    "df = pd.DataFrame({'list': list1, 'tuple': tuple1})\n",
    "\n",
    "print(df)\n",
    "   \n",
    "df['list'] += 10\n",
    "df['tuple'] += 10\n",
    "\n",
    "print(df)"
   ]
  },
  {
   "cell_type": "code",
   "execution_count": 54,
   "id": "854894b1",
   "metadata": {},
   "outputs": [
    {
     "name": "stdout",
     "output_type": "stream",
     "text": [
      "   0\n",
      "0  1\n",
      "1  2\n",
      "2  3\n",
      "3  4\n",
      "4  5\n",
      "   0\n",
      "0  1\n",
      "1  2\n",
      "2  3\n",
      "3  4\n",
      "4  5\n"
     ]
    }
   ],
   "source": [
    "'''Program to convert a NumPy array and series to data frames.\n",
    "'''\n",
    "\n",
    "import numpy as np\n",
    "import pandas as pd\n",
    "\n",
    "array1 = np.array([1, 2, 3, 4, 5])\n",
    "series1 = pd.Series([1, 2, 3, 4, 5])\n",
    "\n",
    "df1 = pd.DataFrame(array1)\n",
    "df2 = pd.DataFrame(series1)\n",
    "\n",
    "print(df1)\n",
    "   \n",
    "\n",
    "print(df2)\n",
    "    "
   ]
  },
  {
   "cell_type": "code",
   "execution_count": 55,
   "id": "69b21ee5",
   "metadata": {},
   "outputs": [
    {
     "name": "stdout",
     "output_type": "stream",
     "text": [
      "0     7\n",
      "1     9\n",
      "2    11\n",
      "3    13\n",
      "4    15\n",
      "dtype: int64\n",
      "0   -5\n",
      "1   -5\n",
      "2   -5\n",
      "3   -5\n",
      "4   -5\n",
      "dtype: int64\n",
      "0     6\n",
      "1    14\n",
      "2    24\n",
      "3    36\n",
      "4    50\n",
      "dtype: int64\n",
      "0    0.166667\n",
      "1    0.285714\n",
      "2    0.375000\n",
      "3    0.444444\n",
      "4    0.500000\n",
      "dtype: float64\n"
     ]
    }
   ],
   "source": [
    "''' Program to add, subtract, multiple and divide two Pandas Series'''\n",
    "\n",
    "import numpy as np\n",
    "import pandas as pd\n",
    "\n",
    "series1 = pd.Series([1, 2, 3, 4, 5])\n",
    "series2 = pd.Series([6, 7, 8, 9, 10])\n",
    "\n",
    "addition = series1 + series2\n",
    "subtraction = series1 - series2\n",
    "multiplication = series1 * series2\n",
    "division = series1 / series2\n",
    "\n",
    "print(addition)\n",
    "   \n",
    "print(subtraction)\n",
    "\n",
    "print(multiplication)\n",
    "\n",
    "print(division)"
   ]
  },
  {
   "cell_type": "code",
   "execution_count": 56,
   "id": "663e727c",
   "metadata": {},
   "outputs": [
    {
     "name": "stdout",
     "output_type": "stream",
     "text": [
      "Sulav Shrestha\n",
      "20\n",
      "UK\n",
      "              Name  Age    Country  Salary\n",
      "0   Sulav Shrestha   20        USA   40864\n",
      "1  AAsish Shrestha   20     Canada   40011\n",
      "2  Kumar Chaudhary   19         UK   26495\n",
      "3  Bibek Chaudhary   18  Australia   39204\n"
     ]
    }
   ],
   "source": [
    "import numpy as np\n",
    "import pandas as pd\n",
    "\n",
    "df = pd.DataFrame({'Name': ['Sulav Shrestha', 'AAsish Shrestha', 'Kumar Chaudhary', 'Bibek Chaudhary'], 'Age': [20, 20, 19, 18], 'Country': ['USA', 'Canada', 'UK', 'Australia']})\n",
    "\n",
    "name = df['Name'].iloc[0]\n",
    "\n",
    "age = df['Age'].iloc[1]\n",
    "\n",
    "country = df['Country'].iloc[2]\n",
    "\n",
    "print(name)\n",
    "print(age)\n",
    "print(country)\n",
    "\n",
    "df['Salary'] = np.random.randint(20000, 50000, size=4)\n",
    "\n",
    "print(df)\n"
   ]
  },
  {
   "cell_type": "code",
   "execution_count": null,
   "id": "43404117",
   "metadata": {},
   "outputs": [],
   "source": []
  }
 ],
 "metadata": {
  "kernelspec": {
   "display_name": "Python 3 (ipykernel)",
   "language": "python",
   "name": "python3"
  },
  "language_info": {
   "codemirror_mode": {
    "name": "ipython",
    "version": 3
   },
   "file_extension": ".py",
   "mimetype": "text/x-python",
   "name": "python",
   "nbconvert_exporter": "python",
   "pygments_lexer": "ipython3",
   "version": "3.11.3"
  }
 },
 "nbformat": 4,
 "nbformat_minor": 5
}
